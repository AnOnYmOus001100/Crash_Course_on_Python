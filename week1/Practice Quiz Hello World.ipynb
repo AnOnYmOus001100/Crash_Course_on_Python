{
 "cells": [
  {
   "cell_type": "markdown",
   "metadata": {},
   "source": [
    "# Practice Quiz Hello World"
   ]
  },
  {
   "cell_type": "markdown",
   "metadata": {},
   "source": [
    "1.What are functions in Python?\n",
    "\n",
    " * Functions are pieces of code that perform a unit of work.\n",
    "\n",
    "2.What are keywords in Python?\n",
    "\n",
    " * Keywords are reserved words that are used to construct instructions.\n",
    "\n",
    "3.What does the print function do in Python?\n",
    "\n",
    "The print function outputs messages to the screen\n",
    "\n",
    "4.Output a message that says \"Programming in Python is fun!\" to the screen."
   ]
  },
  {
   "cell_type": "code",
   "execution_count": 1,
   "metadata": {},
   "outputs": [
    {
     "name": "stdout",
     "output_type": "stream",
     "text": [
      "Programming in Python is fun!\n"
     ]
    }
   ],
   "source": [
    "print (\"Programming in Python is fun!\")"
   ]
  },
  {
   "cell_type": "markdown",
   "metadata": {},
   "source": [
    "5.Replace the ___ placeholder and calculate the Golden ratio: (1+sqrt(5))/2\n",
    "\n",
    "Tip: to calculate the square root of a number xxx, you can use x**(1/2)."
   ]
  },
  {
   "cell_type": "code",
   "execution_count": 2,
   "metadata": {},
   "outputs": [
    {
     "name": "stdout",
     "output_type": "stream",
     "text": [
      "1.618033988749895\n"
     ]
    }
   ],
   "source": [
    "ratio = (1 + 5**(1/2))/2\n",
    "print(ratio)"
   ]
  },
  {
   "cell_type": "code",
   "execution_count": null,
   "metadata": {},
   "outputs": [],
   "source": []
  }
 ],
 "metadata": {
  "kernelspec": {
   "display_name": "Python 3",
   "language": "python",
   "name": "python3"
  },
  "language_info": {
   "codemirror_mode": {
    "name": "ipython",
    "version": 3
   },
   "file_extension": ".py",
   "mimetype": "text/x-python",
   "name": "python",
   "nbconvert_exporter": "python",
   "pygments_lexer": "ipython3",
   "version": "3.5.2"
  }
 },
 "nbformat": 4,
 "nbformat_minor": 4
}
