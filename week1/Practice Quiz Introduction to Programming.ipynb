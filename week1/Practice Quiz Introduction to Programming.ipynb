{
 "cells": [
  {
   "cell_type": "markdown",
   "metadata": {},
   "source": [
    "# Practice Quiz: Introduction to Programming"
   ]
  },
  {
   "cell_type": "markdown",
   "metadata": {},
   "source": [
    "1.What’s a computer program?\n",
    "\n",
    " * A list of instructions that the computer has to follow to reach a goal\n",
    "\n",
    "2.What’s the syntax of a language?\n",
    "\n",
    " * The rules of how to express things in that language\n",
    "\n",
    "3.What’s the difference between a program and a script?\n",
    "\n",
    " * There’s not much difference, but scripts are usually simpler and shorter.\n",
    "\n",
    "4.Which of these scenarios are good candidates for automation? Select all that apply.\n",
    "\n",
    " * Generating a sales report, split by region and product type\n",
    " \n",
    " * Copying a file to all computers in a company\n",
    " \n",
    " * Sending personalized emails to subscribers of your website\n",
    "\n",
    "5.What are semantics when applied to programming code and pseudocode?\n",
    "\n",
    "* The effect the programming instructions have\n"
   ]
  },
  {
   "cell_type": "code",
   "execution_count": null,
   "metadata": {},
   "outputs": [],
   "source": []
  }
 ],
 "metadata": {
  "kernelspec": {
   "display_name": "Python 3",
   "language": "python",
   "name": "python3"
  },
  "language_info": {
   "codemirror_mode": {
    "name": "ipython",
    "version": 3
   },
   "file_extension": ".py",
   "mimetype": "text/x-python",
   "name": "python",
   "nbconvert_exporter": "python",
   "pygments_lexer": "ipython3",
   "version": "3.5.2"
  }
 },
 "nbformat": 4,
 "nbformat_minor": 4
}
