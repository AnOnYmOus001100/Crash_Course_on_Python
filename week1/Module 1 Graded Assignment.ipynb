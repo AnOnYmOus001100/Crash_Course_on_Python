{
 "cells": [
  {
   "cell_type": "markdown",
   "metadata": {},
   "source": [
    "# Module 1 Graded Assignment"
   ]
  },
  {
   "cell_type": "markdown",
   "metadata": {},
   "source": [
    "1.What is a computer program?\n",
    "\n",
    " * A step-by-step recipe of what needs to be done to complete a task, that gets executed by the computer.\n",
    "\n",
    "\n",
    "2.What’s automation?\n",
    "\n",
    " * The process of replacing a manual step with one that happens automatically.\n",
    "\n",
    "\n",
    "3.Which of the following tasks are good candidates for automation? Check all that apply.\n",
    "\n",
    " * Creating a report of how much each sales person has sold in the last month.\n",
    "\n",
    " * Setting the home directory and access permissions for new employees joining your company.\n",
    "\n",
    " * Populating your company's e-commerce site with the latest products in the catalog.\n",
    "\n",
    "\n",
    "4.What are some characteristics of the Python programming language? Check all that apply.\n",
    "\n",
    " * Python programs are easy to write and understand.\n",
    "\n",
    " * The Python interpreter reads our code and transforms it into computer instructions.\n",
    "\n",
    " * We can practice Python using web interpreters or codepads as well as executing it locally.\n",
    "\n",
    "\n",
    "5.How does Python compare to other programming languages?\n",
    "\n",
    " * Each programming language has its advantages and disadvantages."
   ]
  },
  {
   "cell_type": "markdown",
   "metadata": {},
   "source": [
    "6.Write a Python script that outputs \"Automating with Python is fun!\" to the screen."
   ]
  },
  {
   "cell_type": "code",
   "execution_count": 1,
   "metadata": {},
   "outputs": [
    {
     "name": "stdout",
     "output_type": "stream",
     "text": [
      "Automating with Python is fun!\n"
     ]
    }
   ],
   "source": [
    "print (\"Automating with Python is fun!\")"
   ]
  },
  {
   "cell_type": "markdown",
   "metadata": {},
   "source": [
    "7.Fill in the blanks so that the code prints \"Yellow is the color of sunshine\"."
   ]
  },
  {
   "cell_type": "code",
   "execution_count": 2,
   "metadata": {},
   "outputs": [
    {
     "name": "stdout",
     "output_type": "stream",
     "text": [
      "Yellow is the color of sunshine\n"
     ]
    }
   ],
   "source": [
    "color = \"Yellow\"\n",
    "thing = \"sunshine\"\n",
    "print(color + \" is the color of \" + thing)"
   ]
  },
  {
   "cell_type": "markdown",
   "metadata": {},
   "source": [
    "8.Keeping in mind there are 86400 seconds per day, write a program that calculates how many seconds there are in a week, if a week is 7 days. Print the result on the screen.\n",
    "\n",
    "Note: Your result should be in the format of just a number, not a sentence."
   ]
  },
  {
   "cell_type": "code",
   "execution_count": 3,
   "metadata": {},
   "outputs": [
    {
     "name": "stdout",
     "output_type": "stream",
     "text": [
      "604800\n"
     ]
    }
   ],
   "source": [
    "print (86400*7)"
   ]
  },
  {
   "cell_type": "markdown",
   "metadata": {},
   "source": [
    "9.Use Python to calculate how many different passwords can be formed with 6 lower case English letters. \n",
    "For a 1 letter password, there would be 26 possibilities. For a 2 letter password, \n",
    "each letter is independent of the other, so there would be 26 times 26 possibilities. Using this information, \n",
    "print the amount of possible passwords that can be formed with 6 letters."
   ]
  },
  {
   "cell_type": "code",
   "execution_count": 5,
   "metadata": {},
   "outputs": [
    {
     "name": "stdout",
     "output_type": "stream",
     "text": [
      "308915776\n"
     ]
    }
   ],
   "source": [
    "print (26**6)"
   ]
  },
  {
   "cell_type": "markdown",
   "metadata": {},
   "source": [
    "10.Most hard drives are divided into sectors of 512 bytes each. Our disk has a size of 16 GB. \n",
    "Fill in the blank to calculate how many sectors the disk has.\n",
    "\n",
    "Note: Your result should be in the format of just a number, not a sentence."
   ]
  },
  {
   "cell_type": "code",
   "execution_count": 6,
   "metadata": {},
   "outputs": [
    {
     "name": "stdout",
     "output_type": "stream",
     "text": [
      "33554432.0\n"
     ]
    }
   ],
   "source": [
    "disk_size = 16*1024*1024*1024\n",
    "sector_size = 512\n",
    "sector_amount = disk_size / sector_size\n",
    "\n",
    "print(sector_amount)"
   ]
  },
  {
   "cell_type": "code",
   "execution_count": null,
   "metadata": {},
   "outputs": [],
   "source": []
  }
 ],
 "metadata": {
  "kernelspec": {
   "display_name": "Python 3",
   "language": "python",
   "name": "python3"
  },
  "language_info": {
   "codemirror_mode": {
    "name": "ipython",
    "version": 3
   },
   "file_extension": ".py",
   "mimetype": "text/x-python",
   "name": "python",
   "nbconvert_exporter": "python",
   "pygments_lexer": "ipython3",
   "version": "3.5.2"
  }
 },
 "nbformat": 4,
 "nbformat_minor": 4
}
